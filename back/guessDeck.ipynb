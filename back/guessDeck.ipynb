{
    "cells": [
        {
            "cell_type": "markdown",
            "metadata": {},
            "source": [
                "# 기계학습을 통해, 1~10개의 input을 받고 무슨덱인지 맞춘다.\n",
                "\n",
                " 40장까지는 사용자가 이용한 [카드ID] + (40-카드ID수) * <pad1>로 채워야하고(모든덱이 40장이상의므로) 60장까지는 <pad2>로 채워야한다.(모든덱이 60장 미만의므로)\n",
                " 퓨어리 일소 한번으로 \"퓨어리덱\"은 알기 쉽지만, 40장일수록 순수퓨어리일 가능성이 높고, 아니라면 스프퓨어리같은 변종일 가능성이 높을 것임.\n",
                "\n",
                " EM조커 우라라 맞고 멈췄는데, 높은 티어일수록 마술사일 확률이 높겠지만, 엄밀히는 오드아이즈,EM,도레미,세피라등 온갖 변종이 가능함. 특히 60일수록 세피라 쪽일것.\n",
                "\n",
                "# 같은 카드를 쓰지만 어떤 테마군은 용병이 되고, 어떤 테마군은 메인이 된다.\n",
                " 루닉/스프가 그런 경향이 심한데, \n",
                " 순수 루닉의 경우 \n",
                " 스프 루닉의 경우\n",
                " 나츄르 루닉의 경우\n",
                " \n",
                " 세가지 경우에 스프 기믹이랑 나츄르 기믹이 강하게 돌아겜에도 불구, 루닉계열덱으로 분류되는 경향이 강하다.\n",
                " 왜냐고? 결국 승리 플랜이 루닉이니까. 이건 사람이 분류해야할 꺼고. \n",
                " 다만, 저 덱이 심각하게 말려서 나츄르/스프 관련 카드가 안나왔을 때, 루닉으로 분류할수 없는건 어쩔수 없고(혹은 증G 맞았던가)\n",
                " 그 반대도 가능은 할것.\n",
                " 이블트윈.. 어카지?\n",
                "# 패트랩은 어쩔꺼?\n",
                " 우증뵐포말 니비루 와라시 시구레  무명자 말명자 얘네... 매수도 덱분류에서는 중요하긴 한데, 이걸 토큰화 할때 그냥 토큰화 해도 되는 걸까?\n",
                "\n",
                "\n",
                "# 데이터는 어찌 만들어야할까?\n",
                "    1.  \n",
                "\n",
                "\n",
                "# 결론 : Tag 분류를 하려면?\n",
                "\n",
                " ... 많은 분류를 하기보다는 어처피 많아봐야 2개덱의 혼합이고(펑크샤) 굿스터프는 아예 새로운 덱분류로 가는 편이다.(괴구야)\n",
                " 즉, 덱분류1(메인기믹)+ 순수/메인기믹2로 분류\n",
                " 2차원 softmax? 여기서 부터 조금 골치가 아프네. \n",
                "    \n",
                "\n",
                "\n",
                "\n",
                "\n",
                "\n"
            ]
        },
        {
            "cell_type": "code",
            "execution_count": null,
            "metadata": {},
            "outputs": [],
            "source": [
                "# [1,2,3,4,5,Pad*(40-앞에 개수)+pad2(20)] \n",
                "# =>\n",
                "# [0.12312351 ]* 덱개수\n",
                "# softmax()\n",
                "# 무슨덱인지 맞춘거다~\n",
                "# [5,7,9]\n",
                "\n",
                "# 99% "
            ]
        },
        {
            "cell_type": "code",
            "execution_count": 16,
            "metadata": {},
            "outputs": [],
            "source": [
                "# 배포하기 귀찮거든\n",
                "\n",
                "# 개인용 전적 기록만 하고(착지) <- 이게 중요 \n",
                "#광고를 기대 X 광고를 대놓고 받으면 게임사가 이놈!\n",
                "# 특허 : 카드 이미지에 걸렸음\n",
                "# 게임의 룰에는 걸려있지 않음\n",
                "# 덱 목록 => 그런건 이미 있음\n",
                "\n",
                "# 이거 개인별 로그 다 모으면 그게 전적 검색 사이트인거지\n",
                "#API 제공 X -> 우리가 일일 다 만들어야 하는 거지\n",
                "\n",
                "\n",
                "import requests\n",
                "import json\n",
                "import csv\n",
                "\n",
                "url = \"https://db.ygoprodeck.com/api/v7/cardinfo.php\"\n",
                "\n",
                "data = requests.get(url).json()\n",
                "\n",
                "m={}\n",
                "for card in data['data']:\n",
                "    #객체를 만듬\n",
                "    id=card[\"id\"]\n",
                "    cardName=card['name']\n",
                "    m[id]=[id,cardName]\n",
                "with open(\"./ygojson.json\", 'w') as outfile:\n",
                "    json.dump(m, outfile)\n",
                "\n",
                "import json\n",
                "\n",
                "output_file_name = \"data.csv\"\n",
                "with open (\"./ygojson.json\", \"r\") as f:\n",
                "    datas = json.load(f)\n",
                "    f=open(output_file_name,'w',newline='')\n",
                "    wr=csv.writer(f,delimiter ='|')\n",
                "    wr.writerow(['id','name'])\n",
                "    for id,name in datas.values():\n",
                "        wr.writerow([id,name])\n",
                "    f.close()\n",
                "\n",
                "\n",
                "\n"
            ]
        },
        {
            "cell_type": "code",
            "execution_count": 11,
            "metadata": {},
            "outputs": [
                {
                    "name": "stdout",
                    "output_type": "stream",
                    "text": [
                        "<html>\n",
                        "<head><title>403 Forbidden</title></head>\n",
                        "<body>\n",
                        "<center><h1>403 Forbidden</h1></center>\n",
                        "</body>\n",
                        "</html>\n",
                        "\n"
                    ]
                },
                {
                    "ename": "FileNotFoundError",
                    "evalue": "[Errno 2] No such file or directory: '../../1.html'",
                    "output_type": "error",
                    "traceback": [
                        "\u001b[1;31m---------------------------------------------------------------------------\u001b[0m",
                        "\u001b[1;31mFileNotFoundError\u001b[0m                         Traceback (most recent call last)",
                        "\u001b[1;32m<ipython-input-11-e4cb15bcaaf7>\u001b[0m in \u001b[0;36m<module>\u001b[1;34m\u001b[0m\n\u001b[0;32m      6\u001b[0m \u001b[0mprint\u001b[0m\u001b[1;33m(\u001b[0m\u001b[0mresponse_html\u001b[0m\u001b[1;33m)\u001b[0m\u001b[1;33m\u001b[0m\u001b[1;33m\u001b[0m\u001b[0m\n\u001b[0;32m      7\u001b[0m \u001b[1;31m#자, 마스터듀얼메타에서\u001b[0m\u001b[1;33m\u001b[0m\u001b[1;33m\u001b[0m\u001b[1;33m\u001b[0m\u001b[0m\n\u001b[1;32m----> 8\u001b[1;33m \u001b[0mpage\u001b[0m\u001b[1;33m=\u001b[0m\u001b[0mopen\u001b[0m\u001b[1;33m(\u001b[0m\u001b[1;34m'../../1.html'\u001b[0m\u001b[1;33m,\u001b[0m\u001b[1;34m'rt'\u001b[0m\u001b[1;33m,\u001b[0m\u001b[0mencoding\u001b[0m\u001b[1;33m=\u001b[0m\u001b[1;34m'utf-8'\u001b[0m\u001b[1;33m)\u001b[0m\u001b[1;33m.\u001b[0m\u001b[0mread\u001b[0m\u001b[1;33m(\u001b[0m\u001b[1;33m)\u001b[0m\u001b[1;33m\u001b[0m\u001b[1;33m\u001b[0m\u001b[0m\n\u001b[0m\u001b[0;32m      9\u001b[0m \u001b[0msoup\u001b[0m\u001b[1;33m=\u001b[0m\u001b[0mBeautifulSoup\u001b[0m\u001b[1;33m(\u001b[0m\u001b[0mresponse_html\u001b[0m\u001b[1;33m,\u001b[0m\u001b[1;34m'html.parser'\u001b[0m\u001b[1;33m)\u001b[0m\u001b[1;33m\u001b[0m\u001b[1;33m\u001b[0m\u001b[0m\n\u001b[0;32m     10\u001b[0m \u001b[1;31m# print(soup.prettify())\u001b[0m\u001b[1;33m\u001b[0m\u001b[1;33m\u001b[0m\u001b[1;33m\u001b[0m\u001b[0m\n",
                        "\u001b[1;31mFileNotFoundError\u001b[0m: [Errno 2] No such file or directory: '../../1.html'"
                    ]
                }
            ],
            "source": [
                "from bs4 import BeautifulSoup\n",
                "import requests\n",
                "url = 'https://www.thesuperplay.com/product/list.html?cate_no=360'\n",
                "\n",
                "response = requests.get(url)\n",
                "response_html = response.text\n",
                "#자, 마스터듀얼메타에서 \n",
                "# page=open('../../1.html','rt',encoding='utf-8').read()\n",
                "soup=BeautifulSoup(response_html,'html.parser')\n",
                "# print(soup.prettify())\n",
                "\n",
                "\n",
                "\n"
            ]
        },
        {
            "cell_type": "code",
            "execution_count": 10,
            "metadata": {},
            "outputs": [
                {
                    "name": "stdout",
                    "output_type": "stream",
                    "text": [
                        "<html>\n",
                        "<head><title>403 Forbidden</title></head>\n",
                        "<body>\n",
                        "<center><h1>403 Forbidden</h1></center>\n",
                        "</body>\n",
                        "</html>\n",
                        "\n"
                    ]
                }
            ],
            "source": [
                "print(soup)"
            ]
        },
        {
            "cell_type": "code",
            "execution_count": 6,
            "metadata": {},
            "outputs": [
                {
                    "name": "stdout",
                    "output_type": "stream",
                    "text": [
                        "Mathmech\n"
                    ]
                }
            ],
            "source": [
                "count=0\n",
                "decks=[]\n",
                "for deck in soup.select('div[class=\"label svelte-1w4psuu padding\"]'):\n",
                "    decks.append(deck.text)\n",
                "print(decks[6:])"
            ]
        },
        {
            "cell_type": "code",
            "execution_count": 5,
            "metadata": {},
            "outputs": [
                {
                    "name": "stdout",
                    "output_type": "stream",
                    "text": [
                        "['9', '58', '505', '5', '34', '30', '3', '110', '10', '1']\n"
                    ]
                }
            ],
            "source": []
        },
        {
            "cell_type": "code",
            "execution_count": 7,
            "metadata": {},
            "outputs": [
                {
                    "data": {
                        "text/plain": [
                            "False"
                        ]
                    },
                    "execution_count": 7,
                    "metadata": {},
                    "output_type": "execute_result"
                }
            ],
            "source": []
        }
    ],
    "metadata": {
        "kernelspec": {
            "display_name": "Python 3",
            "language": "python",
            "name": "python3"
        },
        "language_info": {
            "codemirror_mode": {
                "name": "ipython",
                "version": 3
            },
            "file_extension": ".py",
            "mimetype": "text/x-python",
            "name": "python",
            "nbconvert_exporter": "python",
            "pygments_lexer": "ipython3",
            "version": "3.8.5"
        },
        "orig_nbformat": 4
    },
    "nbformat": 4,
    "nbformat_minor": 2
}
